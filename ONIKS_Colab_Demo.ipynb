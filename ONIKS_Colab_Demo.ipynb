{
  "cells": [
    {
      "cell_type": "markdown",
      "metadata": {
        "id": "header"
      },
      "source": [
        "# 🧠 ONIKS NeuralNet Framework - Google Colab Demo\n",
        "\n",
        "Welcome to ONIKS! This notebook demonstrates how to use the intelligent multi-agent framework in Google Colab.\n",
        "\n",
        "## What is ONIKS?\n",
        "\n",
        "ONIKS is an AI-powered framework that can:\n",
        "- 📝 Create and modify files\n",
        "- 🖥️ Execute system commands  \n",
        "- 🤖 Plan and execute complex multi-step tasks\n",
        "- 🔧 Automate development workflows\n",
        "\n",
        "Just describe what you want in natural language!"
      ]
    },
    {
      "cell_type": "markdown",
      "metadata": {
        "id": "setup"
      },
      "source": [
        "## 🚀 Setup\n",
        "\n",
        "First, let's install and import ONIKS:"
      ]
    },
    {
      "cell_type": "code",
      "execution_count": null,
      "metadata": {
        "id": "install"
      },
      "outputs": [],
      "source": [
        "# Install ONIKS (if not already installed)\n",
        "# !pip install -e .\n",
        "\n",
        "# Import ONIKS Colab interface\n",
        "from oniks.ui.colab import run_task, quick_start, demo, create_task_interface\n",
        "\n",
        "print(\"✅ ONIKS imported successfully!\")"
      ]
    },
    {
      "cell_type": "markdown",
      "metadata": {
        "id": "quickstart"
      },
      "source": [
        "## 📚 Quick Start Guide"
      ]
    },
    {
      "cell_type": "code",
      "execution_count": null,
      "metadata": {
        "id": "quickstart_code"
      },
      "outputs": [],
      "source": [
        "# Show quick start information\n",
        "quick_start()"
      ]
    },
    {
      "cell_type": "markdown",
      "metadata": {
        "id": "simple_usage"
      },
      "source": [
        "## 🎯 Simple Usage\n",
        "\n",
        "The easiest way to use ONIKS is with the `run_task()` function:"
      ]
    },
    {
      "cell_type": "code",
      "execution_count": null,
      "metadata": {
        "id": "simple_example"
      },
      "outputs": [],
      "source": [
        "# Simple example - create a Python script\n",
        "result = run_task(\"Create a Python script that prints 'Hello from ONIKS!'\")\n",
        "\n",
        "if result['success']:\n",
        "    print(\"🎉 Task completed successfully!\")\n",
        "else:\n",
        "    print(f\"❌ Task failed: {result.get('error')}\")"
      ]
    },
    {
      "cell_type": "markdown",
      "metadata": {
        "id": "widget_interface"
      },
      "source": [
        "## 🎨 Interactive Widget Interface\n",
        "\n",
        "For a more user-friendly experience, use the widget interface:"
      ]
    },
    {
      "cell_type": "code",
      "execution_count": null,
      "metadata": {
        "id": "widget_demo"
      },
      "outputs": [],
      "source": [
        "# Create interactive widget interface\n",
        "create_task_interface()"
      ]
    },
    {
      "cell_type": "markdown",
      "metadata": {
        "id": "examples"
      },
      "source": [
        "## 📝 Example Tasks\n",
        "\n",
        "Here are some example tasks you can try:"
      ]
    },
    {
      "cell_type": "code",
      "execution_count": null,
      "metadata": {
        "id": "example_1"
      },
      "outputs": [],
      "source": [
        "# Example 1: Create a calculator\n",
        "result = run_task(\"Create a Python calculator that can add, subtract, multiply and divide\")\n"
      ]
    },
    {
      "cell_type": "code",
      "execution_count": null,
      "metadata": {
        "id": "example_2"
      },
      "outputs": [],
      "source": [
        "# Example 2: Data analysis script\n",
        "result = run_task(\"Create a Python script that generates random data and creates a simple plot\")"
      ]
    },
    {
      "cell_type": "code",
      "execution_count": null,
      "metadata": {
        "id": "example_3"
      },
      "outputs": [],
      "source": [
        "# Example 3: File operations\n",
        "result = run_task(\"Create a text file with a list of 10 programming languages\")"
      ]
    },
    {
      "cell_type": "code",
      "execution_count": null,
      "metadata": {
        "id": "example_4"
      },
      "outputs": [],
      "source": [
        "# Example 4: Web scraping template\n",
        "result = run_task(\"Create a basic web scraping script template using requests library\")"
      ]
    },
    {
      "cell_type": "markdown",
      "metadata": {
        "id": "advanced"
      },
      "source": [
        "## 🔧 Advanced Usage\n",
        "\n",
        "For more control, you can use the advanced interface:"
      ]
    },
    {
      "cell_type": "code",
      "execution_count": null,
      "metadata": {
        "id": "advanced_usage"
      },
      "outputs": [],
      "source": [
        "from oniks.ui.colab import oniks\n",
        "\n",
        "# Initialize system explicitly\n",
        "oniks.initialize()\n",
        "\n",
        "# Run multiple tasks\n",
        "tasks = [\n",
        "    \"Create a Python function that calculates fibonacci numbers\",\n",
        "    \"Create a simple JSON config file with database settings\",\n",
        "    \"Make a Python script that reads the config and prints the settings\"\n",
        "]\n",
        "\n",
        "for i, task in enumerate(tasks, 1):\n",
        "    print(f\"\\n{'='*50}\")\n",
        "    print(f\"Task {i}: {task}\")\n",
        "    print('='*50)\n",
        "    \n",
        "    result = oniks.execute_task(task)\n",
        "    \n",
        "    if result['success']:\n",
        "        print(f\"✅ Task {i} completed successfully!\")\n",
        "    else:\n",
        "        print(f\"❌ Task {i} failed: {result.get('error')}\")"
      ]
    },
    {
      "cell_type": "markdown",
      "metadata": {
        "id": "demo"
      },
      "source": [
        "## 🎭 Full Demo\n",
        "\n",
        "Run a complete demonstration:"
      ]
    },
    {
      "cell_type": "code",
      "execution_count": null,
      "metadata": {
        "id": "full_demo"
      },
      "outputs": [],
      "source": [
        "# Run full demonstration\n",
        "demo()"
      ]
    },
    {
      "cell_type": "markdown",
      "metadata": {
        "id": "custom_tasks"
      },
      "source": [
        "## 🎯 Your Custom Tasks\n",
        "\n",
        "Now try your own tasks! Use the cell below:"
      ]
    },
    {
      "cell_type": "code",
      "execution_count": null,
      "metadata": {
        "id": "custom_task"
      },
      "outputs": [],
      "source": [
        "# Replace this with your own task description\n",
        "my_task = \"Create a Python script that generates a random password\"\n",
        "\n",
        "result = run_task(my_task)\n",
        "\n",
        "if result['success']:\n",
        "    print(\"🎉 Your task was completed!\")\n",
        "    print(f\"⏱️ Time taken: {result['execution_time']:.1f} seconds\")\n",
        "else:\n",
        "    print(f\"❌ Task failed: {result.get('error')}\")"
      ]
    },
    {
      "cell_type": "markdown",
      "metadata": {
        "id": "tips"
      },
      "source": [
        "## 💡 Tips for Best Results\n",
        "\n",
        "### ✅ Good Task Descriptions:\n",
        "- \"Create a Python script that reads CSV data and creates a bar chart\"\n",
        "- \"Make a function that validates email addresses using regex\"\n",
        "- \"Set up a basic Flask web server with a hello world route\"\n",
        "\n",
        "### ❌ Avoid:\n",
        "- Vague requests like \"help me with coding\"\n",
        "- Tasks requiring external APIs without credentials\n",
        "- Very complex multi-file projects (break them down)\n",
        "\n",
        "### 🎯 Task Ideas:\n",
        "- Data processing and analysis scripts\n",
        "- File manipulation utilities\n",
        "- Simple web scrapers\n",
        "- Mathematical computation tools\n",
        "- Text processing applications\n",
        "- Configuration file generators\n",
        "\n",
        "## 🆘 Troubleshooting\n",
        "\n",
        "If you encounter issues:\n",
        "1. Make sure all dependencies are installed\n",
        "2. Check that file paths are accessible in Colab\n",
        "3. Try simpler tasks first to test the system\n",
        "4. Remember that ONIKS works best with specific, clear goals\n",
        "\n",
        "---\n",
        "\n",
        "**Happy coding with ONIKS! 🚀**"
      ]
    }
  ],
  "metadata": {
    "colab": {
      "provenance": []
    },
    "kernelspec": {
      "display_name": "Python 3",
      "name": "python3"
    },
    "language_info": {
      "name": "python"
    }
  },
  "nbformat": 4,
  "nbformat_minor": 0
}